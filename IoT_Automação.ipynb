{
  "nbformat": 4,
  "nbformat_minor": 0,
  "metadata": {
    "colab": {
      "provenance": [],
      "include_colab_link": true
    },
    "kernelspec": {
      "name": "python3",
      "display_name": "Python 3"
    },
    "language_info": {
      "name": "python"
    }
  },
  "cells": [
    {
      "cell_type": "markdown",
      "metadata": {
        "id": "view-in-github",
        "colab_type": "text"
      },
      "source": [
        "<a href=\"https://colab.research.google.com/github/Estebanjgg/curso-machine-learning/blob/main/IoT_Automa%C3%A7%C3%A3o.ipynb\" target=\"_parent\"><img src=\"https://colab.research.google.com/assets/colab-badge.svg\" alt=\"Open In Colab\"/></a>"
      ]
    },
    {
      "cell_type": "code",
      "execution_count": null,
      "metadata": {
        "id": "XFD3jBolCLsV"
      },
      "outputs": [],
      "source": [
        "print(\"testando\")\n",
        "\n",
        "import speech_recognition as sr\n",
        "\n",
        "import os\n",
        "\n",
        "\n",
        "#Função para ouvir e reconhecer a fala\n",
        "def ouvir_microfone():\n",
        "    #Habilita o microfone do usuário\n",
        "    microfone = sr.Recognizer()\n",
        "    \n",
        "    #usando o microfone\n",
        "    with sr.Microphone() as source:\n",
        "        \n",
        "        #Chama um algoritmo de reducao de ruidos no som\n",
        "        microfone.adjust_for_ambient_noise(source)\n",
        "        \n",
        "        #Frase para o usuario dizer algo\n",
        "        print(\"Diga alguma coisa: \")\n",
        "        \n",
        "        #Armazena o que foi dito numa variavel\n",
        "        audio = microfone.listen(source)\n",
        "        \n",
        "    try:\n",
        "        \n",
        "        #Passa a variável para o algoritmo reconhecedor de padroes\n",
        "        frase = microfone.recognize_google(audio,language='pt-BR')\n",
        "\n",
        "        if \"navegador\" in frase:\n",
        "            os.system(\"start Chrome.exe\")\n",
        "\n",
        "        elif \"Excel\" in frase:\n",
        "            os.system(\"start Excel.exe\")\n",
        "        \n",
        "        #Retorna a frase pronunciada\n",
        "        print(\"Você disse: \" + frase)\n",
        "        \n",
        "    #Se nao reconheceu o padrao de fala, exibe a mensagem\n",
        "    except sr.UnkownValueError:\n",
        "        print(\"Não entendi\")\n",
        "        \n",
        "    return frase\n",
        "\n",
        "ouvir_microfone()\n"
      ]
    }
  ]
}